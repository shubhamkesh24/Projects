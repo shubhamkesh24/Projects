{
 "cells": [
  {
   "cell_type": "markdown",
   "id": "bd8163a3",
   "metadata": {
    "id": "_lSM2gOpfAus",
    "papermill": {
     "duration": 0.008378,
     "end_time": "2024-03-27T19:04:58.423219",
     "exception": false,
     "start_time": "2024-03-27T19:04:58.414841",
     "status": "completed"
    },
    "tags": []
   },
   "source": [
    "<h1 style='background:black; border:0; color:white'><center>SUPERMARKET SALES</center><h1>"
   ]
  },
  {
   "cell_type": "markdown",
   "id": "dd2862c2",
   "metadata": {
    "papermill": {
     "duration": 0.008048,
     "end_time": "2024-03-27T19:04:58.439354",
     "exception": false,
     "start_time": "2024-03-27T19:04:58.431306",
     "status": "completed"
    },
    "tags": []
   },
   "source": [
    "# **DATA EXPLORATION AND CLEANING**"
   ]
  },
  {
   "cell_type": "code",
   "execution_count": 1,
   "id": "853d0a4d",
   "metadata": {
    "execution": {
     "iopub.execute_input": "2024-03-27T19:04:58.456966Z",
     "iopub.status.busy": "2024-03-27T19:04:58.456511Z",
     "iopub.status.idle": "2024-03-27T19:05:00.873797Z",
     "shell.execute_reply": "2024-03-27T19:05:00.872673Z"
    },
    "id": "BDaztn-0sSNK",
    "outputId": "4260e705-1e31-4676-af35-76c4fa2ea614",
    "papermill": {
     "duration": 2.429208,
     "end_time": "2024-03-27T19:05:00.876513",
     "exception": false,
     "start_time": "2024-03-27T19:04:58.447305",
     "status": "completed"
    },
    "tags": []
   },
   "outputs": [],
   "source": [
    "import pandas as pd\n",
    "import numpy as np\n",
    "import seaborn as sns\n",
    "import matplotlib.pyplot as plt\n",
    "%matplotlib inline"
   ]
  },
  {
   "cell_type": "code",
   "execution_count": 2,
   "id": "5cea9681",
   "metadata": {
    "execution": {
     "iopub.execute_input": "2024-03-27T19:05:00.895872Z",
     "iopub.status.busy": "2024-03-27T19:05:00.895009Z",
     "iopub.status.idle": "2024-03-27T19:05:00.923870Z",
     "shell.execute_reply": "2024-03-27T19:05:00.922681Z"
    },
    "id": "87G1rk0bse0U",
    "papermill": {
     "duration": 0.041979,
     "end_time": "2024-03-27T19:05:00.926904",
     "exception": false,
     "start_time": "2024-03-27T19:05:00.884925",
     "status": "completed"
    },
    "tags": []
   },
   "outputs": [],
   "source": [
    "sales = pd.read_csv('../input/supermarket-sales/supermarket_sales - Sheet1.csv')"
   ]
  },
  {
   "cell_type": "code",
   "execution_count": 3,
   "id": "fe0fdd9e",
   "metadata": {
    "execution": {
     "iopub.execute_input": "2024-03-27T19:05:00.944992Z",
     "iopub.status.busy": "2024-03-27T19:05:00.944329Z",
     "iopub.status.idle": "2024-03-27T19:05:00.973202Z",
     "shell.execute_reply": "2024-03-27T19:05:00.972208Z"
    },
    "id": "tLYA-UFmsqME",
    "outputId": "84ec5c74-72c1-4bc5-9784-899519801a65",
    "papermill": {
     "duration": 0.040654,
     "end_time": "2024-03-27T19:05:00.975609",
     "exception": false,
     "start_time": "2024-03-27T19:05:00.934955",
     "status": "completed"
    },
    "tags": []
   },
   "outputs": [
    {
     "data": {
      "text/html": [
       "<div>\n",
       "<style scoped>\n",
       "    .dataframe tbody tr th:only-of-type {\n",
       "        vertical-align: middle;\n",
       "    }\n",
       "\n",
       "    .dataframe tbody tr th {\n",
       "        vertical-align: top;\n",
       "    }\n",
       "\n",
       "    .dataframe thead th {\n",
       "        text-align: right;\n",
       "    }\n",
       "</style>\n",
       "<table border=\"1\" class=\"dataframe\">\n",
       "  <thead>\n",
       "    <tr style=\"text-align: right;\">\n",
       "      <th></th>\n",
       "      <th>Invoice ID</th>\n",
       "      <th>Branch</th>\n",
       "      <th>City</th>\n",
       "      <th>Customer type</th>\n",
       "      <th>Gender</th>\n",
       "      <th>Product line</th>\n",
       "      <th>Unit price</th>\n",
       "      <th>Quantity</th>\n",
       "      <th>Tax 5%</th>\n",
       "      <th>Total</th>\n",
       "      <th>Date</th>\n",
       "      <th>Time</th>\n",
       "      <th>Payment</th>\n",
       "      <th>cogs</th>\n",
       "      <th>gross margin percentage</th>\n",
       "      <th>gross income</th>\n",
       "      <th>Rating</th>\n",
       "    </tr>\n",
       "  </thead>\n",
       "  <tbody>\n",
       "    <tr>\n",
       "      <th>0</th>\n",
       "      <td>750-67-8428</td>\n",
       "      <td>A</td>\n",
       "      <td>Yangon</td>\n",
       "      <td>Member</td>\n",
       "      <td>Female</td>\n",
       "      <td>Health and beauty</td>\n",
       "      <td>74.69</td>\n",
       "      <td>7</td>\n",
       "      <td>26.1415</td>\n",
       "      <td>548.9715</td>\n",
       "      <td>1/5/2019</td>\n",
       "      <td>13:08</td>\n",
       "      <td>Ewallet</td>\n",
       "      <td>522.83</td>\n",
       "      <td>4.761905</td>\n",
       "      <td>26.1415</td>\n",
       "      <td>9.1</td>\n",
       "    </tr>\n",
       "    <tr>\n",
       "      <th>1</th>\n",
       "      <td>226-31-3081</td>\n",
       "      <td>C</td>\n",
       "      <td>Naypyitaw</td>\n",
       "      <td>Normal</td>\n",
       "      <td>Female</td>\n",
       "      <td>Electronic accessories</td>\n",
       "      <td>15.28</td>\n",
       "      <td>5</td>\n",
       "      <td>3.8200</td>\n",
       "      <td>80.2200</td>\n",
       "      <td>3/8/2019</td>\n",
       "      <td>10:29</td>\n",
       "      <td>Cash</td>\n",
       "      <td>76.40</td>\n",
       "      <td>4.761905</td>\n",
       "      <td>3.8200</td>\n",
       "      <td>9.6</td>\n",
       "    </tr>\n",
       "    <tr>\n",
       "      <th>2</th>\n",
       "      <td>631-41-3108</td>\n",
       "      <td>A</td>\n",
       "      <td>Yangon</td>\n",
       "      <td>Normal</td>\n",
       "      <td>Male</td>\n",
       "      <td>Home and lifestyle</td>\n",
       "      <td>46.33</td>\n",
       "      <td>7</td>\n",
       "      <td>16.2155</td>\n",
       "      <td>340.5255</td>\n",
       "      <td>3/3/2019</td>\n",
       "      <td>13:23</td>\n",
       "      <td>Credit card</td>\n",
       "      <td>324.31</td>\n",
       "      <td>4.761905</td>\n",
       "      <td>16.2155</td>\n",
       "      <td>7.4</td>\n",
       "    </tr>\n",
       "    <tr>\n",
       "      <th>3</th>\n",
       "      <td>123-19-1176</td>\n",
       "      <td>A</td>\n",
       "      <td>Yangon</td>\n",
       "      <td>Member</td>\n",
       "      <td>Male</td>\n",
       "      <td>Health and beauty</td>\n",
       "      <td>58.22</td>\n",
       "      <td>8</td>\n",
       "      <td>23.2880</td>\n",
       "      <td>489.0480</td>\n",
       "      <td>1/27/2019</td>\n",
       "      <td>20:33</td>\n",
       "      <td>Ewallet</td>\n",
       "      <td>465.76</td>\n",
       "      <td>4.761905</td>\n",
       "      <td>23.2880</td>\n",
       "      <td>8.4</td>\n",
       "    </tr>\n",
       "    <tr>\n",
       "      <th>4</th>\n",
       "      <td>373-73-7910</td>\n",
       "      <td>A</td>\n",
       "      <td>Yangon</td>\n",
       "      <td>Normal</td>\n",
       "      <td>Male</td>\n",
       "      <td>Sports and travel</td>\n",
       "      <td>86.31</td>\n",
       "      <td>7</td>\n",
       "      <td>30.2085</td>\n",
       "      <td>634.3785</td>\n",
       "      <td>2/8/2019</td>\n",
       "      <td>10:37</td>\n",
       "      <td>Ewallet</td>\n",
       "      <td>604.17</td>\n",
       "      <td>4.761905</td>\n",
       "      <td>30.2085</td>\n",
       "      <td>5.3</td>\n",
       "    </tr>\n",
       "  </tbody>\n",
       "</table>\n",
       "</div>"
      ],
      "text/plain": [
       "    Invoice ID Branch       City Customer type  Gender  \\\n",
       "0  750-67-8428      A     Yangon        Member  Female   \n",
       "1  226-31-3081      C  Naypyitaw        Normal  Female   \n",
       "2  631-41-3108      A     Yangon        Normal    Male   \n",
       "3  123-19-1176      A     Yangon        Member    Male   \n",
       "4  373-73-7910      A     Yangon        Normal    Male   \n",
       "\n",
       "             Product line  Unit price  Quantity   Tax 5%     Total       Date  \\\n",
       "0       Health and beauty       74.69         7  26.1415  548.9715   1/5/2019   \n",
       "1  Electronic accessories       15.28         5   3.8200   80.2200   3/8/2019   \n",
       "2      Home and lifestyle       46.33         7  16.2155  340.5255   3/3/2019   \n",
       "3       Health and beauty       58.22         8  23.2880  489.0480  1/27/2019   \n",
       "4       Sports and travel       86.31         7  30.2085  634.3785   2/8/2019   \n",
       "\n",
       "    Time      Payment    cogs  gross margin percentage  gross income  Rating  \n",
       "0  13:08      Ewallet  522.83                 4.761905       26.1415     9.1  \n",
       "1  10:29         Cash   76.40                 4.761905        3.8200     9.6  \n",
       "2  13:23  Credit card  324.31                 4.761905       16.2155     7.4  \n",
       "3  20:33      Ewallet  465.76                 4.761905       23.2880     8.4  \n",
       "4  10:37      Ewallet  604.17                 4.761905       30.2085     5.3  "
      ]
     },
     "execution_count": 3,
     "metadata": {},
     "output_type": "execute_result"
    }
   ],
   "source": [
    "sales.head()"
   ]
  },
  {
   "cell_type": "code",
   "execution_count": 4,
   "id": "df60c332",
   "metadata": {
    "execution": {
     "iopub.execute_input": "2024-03-27T19:05:00.994770Z",
     "iopub.status.busy": "2024-03-27T19:05:00.993995Z",
     "iopub.status.idle": "2024-03-27T19:05:01.000968Z",
     "shell.execute_reply": "2024-03-27T19:05:00.999821Z"
    },
    "id": "kT6p3iJDs6U5",
    "outputId": "2a08609b-f61b-45fc-aab7-574ed0c7e91b",
    "papermill": {
     "duration": 0.019175,
     "end_time": "2024-03-27T19:05:01.003266",
     "exception": false,
     "start_time": "2024-03-27T19:05:00.984091",
     "status": "completed"
    },
    "tags": []
   },
   "outputs": [
    {
     "data": {
      "text/plain": [
       "(1000, 17)"
      ]
     },
     "execution_count": 4,
     "metadata": {},
     "output_type": "execute_result"
    }
   ],
   "source": [
    "sales.shape # To check number of rows and columns"
   ]
  },
  {
   "cell_type": "code",
   "execution_count": 5,
   "id": "1beb0060",
   "metadata": {
    "execution": {
     "iopub.execute_input": "2024-03-27T19:05:01.022816Z",
     "iopub.status.busy": "2024-03-27T19:05:01.022408Z",
     "iopub.status.idle": "2024-03-27T19:05:01.029089Z",
     "shell.execute_reply": "2024-03-27T19:05:01.028041Z"
    },
    "id": "50xeAXhes7x2",
    "outputId": "187b5635-87d7-40f1-ad1a-8845e24ef9da",
    "papermill": {
     "duration": 0.019522,
     "end_time": "2024-03-27T19:05:01.031239",
     "exception": false,
     "start_time": "2024-03-27T19:05:01.011717",
     "status": "completed"
    },
    "tags": []
   },
   "outputs": [
    {
     "data": {
      "text/plain": [
       "Index(['Invoice ID', 'Branch', 'City', 'Customer type', 'Gender',\n",
       "       'Product line', 'Unit price', 'Quantity', 'Tax 5%', 'Total', 'Date',\n",
       "       'Time', 'Payment', 'cogs', 'gross margin percentage', 'gross income',\n",
       "       'Rating'],\n",
       "      dtype='object')"
      ]
     },
     "execution_count": 5,
     "metadata": {},
     "output_type": "execute_result"
    }
   ],
   "source": [
    "sales.columns"
   ]
  },
  {
   "cell_type": "code",
   "execution_count": 6,
   "id": "db042557",
   "metadata": {
    "execution": {
     "iopub.execute_input": "2024-03-27T19:05:01.051482Z",
     "iopub.status.busy": "2024-03-27T19:05:01.051059Z",
     "iopub.status.idle": "2024-03-27T19:05:01.059345Z",
     "shell.execute_reply": "2024-03-27T19:05:01.058569Z"
    },
    "id": "xjdbJRmgs97V",
    "outputId": "c5a0cc34-7b69-49f8-994a-8fbe6292d7e8",
    "papermill": {
     "duration": 0.020013,
     "end_time": "2024-03-27T19:05:01.061239",
     "exception": false,
     "start_time": "2024-03-27T19:05:01.041226",
     "status": "completed"
    },
    "tags": []
   },
   "outputs": [
    {
     "data": {
      "text/plain": [
       "Invoice ID                  object\n",
       "Branch                      object\n",
       "City                        object\n",
       "Customer type               object\n",
       "Gender                      object\n",
       "Product line                object\n",
       "Unit price                 float64\n",
       "Quantity                     int64\n",
       "Tax 5%                     float64\n",
       "Total                      float64\n",
       "Date                        object\n",
       "Time                        object\n",
       "Payment                     object\n",
       "cogs                       float64\n",
       "gross margin percentage    float64\n",
       "gross income               float64\n",
       "Rating                     float64\n",
       "dtype: object"
      ]
     },
     "execution_count": 6,
     "metadata": {},
     "output_type": "execute_result"
    }
   ],
   "source": [
    "sales.dtypes"
   ]
  },
  {
   "cell_type": "markdown",
   "id": "e7cc96dc",
   "metadata": {
    "id": "WtQ7KIbDtBE4",
    "papermill": {
     "duration": 0.008264,
     "end_time": "2024-03-27T19:05:01.078176",
     "exception": false,
     "start_time": "2024-03-27T19:05:01.069912",
     "status": "completed"
    },
    "tags": []
   },
   "source": [
    "Well here date is object , let's convert it into Datetime"
   ]
  },
  {
   "cell_type": "code",
   "execution_count": 7,
   "id": "7c5900b9",
   "metadata": {
    "execution": {
     "iopub.execute_input": "2024-03-27T19:05:01.097328Z",
     "iopub.status.busy": "2024-03-27T19:05:01.096866Z",
     "iopub.status.idle": "2024-03-27T19:05:01.116574Z",
     "shell.execute_reply": "2024-03-27T19:05:01.115698Z"
    },
    "id": "x_L3arKAs_mn",
    "papermill": {
     "duration": 0.032126,
     "end_time": "2024-03-27T19:05:01.119036",
     "exception": false,
     "start_time": "2024-03-27T19:05:01.086910",
     "status": "completed"
    },
    "tags": []
   },
   "outputs": [],
   "source": [
    "sales['Date'] = pd.to_datetime(sales['Date'])"
   ]
  },
  {
   "cell_type": "code",
   "execution_count": 8,
   "id": "a62a0978",
   "metadata": {
    "execution": {
     "iopub.execute_input": "2024-03-27T19:05:01.138495Z",
     "iopub.status.busy": "2024-03-27T19:05:01.138107Z",
     "iopub.status.idle": "2024-03-27T19:05:01.148897Z",
     "shell.execute_reply": "2024-03-27T19:05:01.147231Z"
    },
    "id": "Ht42r9XXtbaV",
    "outputId": "ebb7dd2e-38b0-4cd5-d0eb-f04f6d331b0c",
    "papermill": {
     "duration": 0.02379,
     "end_time": "2024-03-27T19:05:01.151698",
     "exception": false,
     "start_time": "2024-03-27T19:05:01.127908",
     "status": "completed"
    },
    "tags": []
   },
   "outputs": [
    {
     "data": {
      "text/plain": [
       "0     2019-01-05\n",
       "1     2019-03-08\n",
       "2     2019-03-03\n",
       "3     2019-01-27\n",
       "4     2019-02-08\n",
       "         ...    \n",
       "995   2019-01-29\n",
       "996   2019-03-02\n",
       "997   2019-02-09\n",
       "998   2019-02-22\n",
       "999   2019-02-18\n",
       "Name: Date, Length: 1000, dtype: datetime64[ns]"
      ]
     },
     "execution_count": 8,
     "metadata": {},
     "output_type": "execute_result"
    }
   ],
   "source": [
    "sales['Date']"
   ]
  },
  {
   "cell_type": "code",
   "execution_count": 9,
   "id": "8019246a",
   "metadata": {
    "execution": {
     "iopub.execute_input": "2024-03-27T19:05:01.172052Z",
     "iopub.status.busy": "2024-03-27T19:05:01.171635Z",
     "iopub.status.idle": "2024-03-27T19:05:01.180441Z",
     "shell.execute_reply": "2024-03-27T19:05:01.179275Z"
    },
    "id": "-3aG_hbKtgUd",
    "outputId": "80d92522-1447-4313-d4c2-deecc8af7893",
    "papermill": {
     "duration": 0.022034,
     "end_time": "2024-03-27T19:05:01.182966",
     "exception": false,
     "start_time": "2024-03-27T19:05:01.160932",
     "status": "completed"
    },
    "tags": []
   },
   "outputs": [
    {
     "data": {
      "text/plain": [
       "Invoice ID                         object\n",
       "Branch                             object\n",
       "City                               object\n",
       "Customer type                      object\n",
       "Gender                             object\n",
       "Product line                       object\n",
       "Unit price                        float64\n",
       "Quantity                            int64\n",
       "Tax 5%                            float64\n",
       "Total                             float64\n",
       "Date                       datetime64[ns]\n",
       "Time                               object\n",
       "Payment                            object\n",
       "cogs                              float64\n",
       "gross margin percentage           float64\n",
       "gross income                      float64\n",
       "Rating                            float64\n",
       "dtype: object"
      ]
     },
     "execution_count": 9,
     "metadata": {},
     "output_type": "execute_result"
    }
   ],
   "source": [
    "sales.dtypes"
   ]
  },
  {
   "cell_type": "markdown",
   "id": "8c7b0605",
   "metadata": {
    "id": "-3hxszAttkGQ",
    "papermill": {
     "duration": 0.008785,
     "end_time": "2024-03-27T19:05:01.200795",
     "exception": false,
     "start_time": "2024-03-27T19:05:01.192010",
     "status": "completed"
    },
    "tags": []
   },
   "source": [
    "Finally , we have changed date to datetime from object"
   ]
  },
  {
   "cell_type": "code",
   "execution_count": 10,
   "id": "c6675a86",
   "metadata": {
    "execution": {
     "iopub.execute_input": "2024-03-27T19:05:01.220644Z",
     "iopub.status.busy": "2024-03-27T19:05:01.220202Z",
     "iopub.status.idle": "2024-03-27T19:05:01.227332Z",
     "shell.execute_reply": "2024-03-27T19:05:01.226237Z"
    },
    "id": "9sQn0pEith4-",
    "papermill": {
     "duration": 0.019687,
     "end_time": "2024-03-27T19:05:01.229464",
     "exception": false,
     "start_time": "2024-03-27T19:05:01.209777",
     "status": "completed"
    },
    "tags": []
   },
   "outputs": [],
   "source": [
    "sales.set_index('Date',inplace =True)"
   ]
  },
  {
   "cell_type": "code",
   "execution_count": 11,
   "id": "da1bdbff",
   "metadata": {
    "execution": {
     "iopub.execute_input": "2024-03-27T19:05:01.250791Z",
     "iopub.status.busy": "2024-03-27T19:05:01.249447Z",
     "iopub.status.idle": "2024-03-27T19:05:01.272146Z",
     "shell.execute_reply": "2024-03-27T19:05:01.270577Z"
    },
    "id": "W959ox-9wYnk",
    "outputId": "a3fe3712-6e46-40ca-ec24-e3b8022c8464",
    "papermill": {
     "duration": 0.035958,
     "end_time": "2024-03-27T19:05:01.274611",
     "exception": false,
     "start_time": "2024-03-27T19:05:01.238653",
     "status": "completed"
    },
    "tags": []
   },
   "outputs": [
    {
     "data": {
      "text/html": [
       "<div>\n",
       "<style scoped>\n",
       "    .dataframe tbody tr th:only-of-type {\n",
       "        vertical-align: middle;\n",
       "    }\n",
       "\n",
       "    .dataframe tbody tr th {\n",
       "        vertical-align: top;\n",
       "    }\n",
       "\n",
       "    .dataframe thead th {\n",
       "        text-align: right;\n",
       "    }\n",
       "</style>\n",
       "<table border=\"1\" class=\"dataframe\">\n",
       "  <thead>\n",
       "    <tr style=\"text-align: right;\">\n",
       "      <th></th>\n",
       "      <th>Invoice ID</th>\n",
       "      <th>Branch</th>\n",
       "      <th>City</th>\n",
       "      <th>Customer type</th>\n",
       "      <th>Gender</th>\n",
       "      <th>Product line</th>\n",
       "      <th>Unit price</th>\n",
       "      <th>Quantity</th>\n",
       "      <th>Tax 5%</th>\n",
       "      <th>Total</th>\n",
       "      <th>Time</th>\n",
       "      <th>Payment</th>\n",
       "      <th>cogs</th>\n",
       "      <th>gross margin percentage</th>\n",
       "      <th>gross income</th>\n",
       "      <th>Rating</th>\n",
       "    </tr>\n",
       "    <tr>\n",
       "      <th>Date</th>\n",
       "      <th></th>\n",
       "      <th></th>\n",
       "      <th></th>\n",
       "      <th></th>\n",
       "      <th></th>\n",
       "      <th></th>\n",
       "      <th></th>\n",
       "      <th></th>\n",
       "      <th></th>\n",
       "      <th></th>\n",
       "      <th></th>\n",
       "      <th></th>\n",
       "      <th></th>\n",
       "      <th></th>\n",
       "      <th></th>\n",
       "      <th></th>\n",
       "    </tr>\n",
       "  </thead>\n",
       "  <tbody>\n",
       "    <tr>\n",
       "      <th>2019-01-05</th>\n",
       "      <td>750-67-8428</td>\n",
       "      <td>A</td>\n",
       "      <td>Yangon</td>\n",
       "      <td>Member</td>\n",
       "      <td>Female</td>\n",
       "      <td>Health and beauty</td>\n",
       "      <td>74.69</td>\n",
       "      <td>7</td>\n",
       "      <td>26.1415</td>\n",
       "      <td>548.9715</td>\n",
       "      <td>13:08</td>\n",
       "      <td>Ewallet</td>\n",
       "      <td>522.83</td>\n",
       "      <td>4.761905</td>\n",
       "      <td>26.1415</td>\n",
       "      <td>9.1</td>\n",
       "    </tr>\n",
       "    <tr>\n",
       "      <th>2019-03-08</th>\n",
       "      <td>226-31-3081</td>\n",
       "      <td>C</td>\n",
       "      <td>Naypyitaw</td>\n",
       "      <td>Normal</td>\n",
       "      <td>Female</td>\n",
       "      <td>Electronic accessories</td>\n",
       "      <td>15.28</td>\n",
       "      <td>5</td>\n",
       "      <td>3.8200</td>\n",
       "      <td>80.2200</td>\n",
       "      <td>10:29</td>\n",
       "      <td>Cash</td>\n",
       "      <td>76.40</td>\n",
       "      <td>4.761905</td>\n",
       "      <td>3.8200</td>\n",
       "      <td>9.6</td>\n",
       "    </tr>\n",
       "    <tr>\n",
       "      <th>2019-03-03</th>\n",
       "      <td>631-41-3108</td>\n",
       "      <td>A</td>\n",
       "      <td>Yangon</td>\n",
       "      <td>Normal</td>\n",
       "      <td>Male</td>\n",
       "      <td>Home and lifestyle</td>\n",
       "      <td>46.33</td>\n",
       "      <td>7</td>\n",
       "      <td>16.2155</td>\n",
       "      <td>340.5255</td>\n",
       "      <td>13:23</td>\n",
       "      <td>Credit card</td>\n",
       "      <td>324.31</td>\n",
       "      <td>4.761905</td>\n",
       "      <td>16.2155</td>\n",
       "      <td>7.4</td>\n",
       "    </tr>\n",
       "    <tr>\n",
       "      <th>2019-01-27</th>\n",
       "      <td>123-19-1176</td>\n",
       "      <td>A</td>\n",
       "      <td>Yangon</td>\n",
       "      <td>Member</td>\n",
       "      <td>Male</td>\n",
       "      <td>Health and beauty</td>\n",
       "      <td>58.22</td>\n",
       "      <td>8</td>\n",
       "      <td>23.2880</td>\n",
       "      <td>489.0480</td>\n",
       "      <td>20:33</td>\n",
       "      <td>Ewallet</td>\n",
       "      <td>465.76</td>\n",
       "      <td>4.761905</td>\n",
       "      <td>23.2880</td>\n",
       "      <td>8.4</td>\n",
       "    </tr>\n",
       "    <tr>\n",
       "      <th>2019-02-08</th>\n",
       "      <td>373-73-7910</td>\n",
       "      <td>A</td>\n",
       "      <td>Yangon</td>\n",
       "      <td>Normal</td>\n",
       "      <td>Male</td>\n",
       "      <td>Sports and travel</td>\n",
       "      <td>86.31</td>\n",
       "      <td>7</td>\n",
       "      <td>30.2085</td>\n",
       "      <td>634.3785</td>\n",
       "      <td>10:37</td>\n",
       "      <td>Ewallet</td>\n",
       "      <td>604.17</td>\n",
       "      <td>4.761905</td>\n",
       "      <td>30.2085</td>\n",
       "      <td>5.3</td>\n",
       "    </tr>\n",
       "  </tbody>\n",
       "</table>\n",
       "</div>"
      ],
      "text/plain": [
       "             Invoice ID Branch       City Customer type  Gender  \\\n",
       "Date                                                              \n",
       "2019-01-05  750-67-8428      A     Yangon        Member  Female   \n",
       "2019-03-08  226-31-3081      C  Naypyitaw        Normal  Female   \n",
       "2019-03-03  631-41-3108      A     Yangon        Normal    Male   \n",
       "2019-01-27  123-19-1176      A     Yangon        Member    Male   \n",
       "2019-02-08  373-73-7910      A     Yangon        Normal    Male   \n",
       "\n",
       "                      Product line  Unit price  Quantity   Tax 5%     Total  \\\n",
       "Date                                                                          \n",
       "2019-01-05       Health and beauty       74.69         7  26.1415  548.9715   \n",
       "2019-03-08  Electronic accessories       15.28         5   3.8200   80.2200   \n",
       "2019-03-03      Home and lifestyle       46.33         7  16.2155  340.5255   \n",
       "2019-01-27       Health and beauty       58.22         8  23.2880  489.0480   \n",
       "2019-02-08       Sports and travel       86.31         7  30.2085  634.3785   \n",
       "\n",
       "             Time      Payment    cogs  gross margin percentage  gross income  \\\n",
       "Date                                                                            \n",
       "2019-01-05  13:08      Ewallet  522.83                 4.761905       26.1415   \n",
       "2019-03-08  10:29         Cash   76.40                 4.761905        3.8200   \n",
       "2019-03-03  13:23  Credit card  324.31                 4.761905       16.2155   \n",
       "2019-01-27  20:33      Ewallet  465.76                 4.761905       23.2880   \n",
       "2019-02-08  10:37      Ewallet  604.17                 4.761905       30.2085   \n",
       "\n",
       "            Rating  \n",
       "Date                \n",
       "2019-01-05     9.1  \n",
       "2019-03-08     9.6  \n",
       "2019-03-03     7.4  \n",
       "2019-01-27     8.4  \n",
       "2019-02-08     5.3  "
      ]
     },
     "execution_count": 11,
     "metadata": {},
     "output_type": "execute_result"
    }
   ],
   "source": [
    "sales.head()"
   ]
  },
  {
   "cell_type": "code",
   "execution_count": 12,
   "id": "2d14143f",
   "metadata": {
    "execution": {
     "iopub.execute_input": "2024-03-27T19:05:01.295807Z",
     "iopub.status.busy": "2024-03-27T19:05:01.295358Z",
     "iopub.status.idle": "2024-03-27T19:05:01.332027Z",
     "shell.execute_reply": "2024-03-27T19:05:01.330849Z"
    },
    "id": "atRsSXGkwlp2",
    "outputId": "bda0727d-63dc-4d9c-a669-6cd5a149c851",
    "papermill": {
     "duration": 0.050079,
     "end_time": "2024-03-27T19:05:01.334395",
     "exception": false,
     "start_time": "2024-03-27T19:05:01.284316",
     "status": "completed"
    },
    "tags": []
   },
   "outputs": [
    {
     "data": {
      "text/html": [
       "<div>\n",
       "<style scoped>\n",
       "    .dataframe tbody tr th:only-of-type {\n",
       "        vertical-align: middle;\n",
       "    }\n",
       "\n",
       "    .dataframe tbody tr th {\n",
       "        vertical-align: top;\n",
       "    }\n",
       "\n",
       "    .dataframe thead th {\n",
       "        text-align: right;\n",
       "    }\n",
       "</style>\n",
       "<table border=\"1\" class=\"dataframe\">\n",
       "  <thead>\n",
       "    <tr style=\"text-align: right;\">\n",
       "      <th></th>\n",
       "      <th>Unit price</th>\n",
       "      <th>Quantity</th>\n",
       "      <th>Tax 5%</th>\n",
       "      <th>Total</th>\n",
       "      <th>cogs</th>\n",
       "      <th>gross margin percentage</th>\n",
       "      <th>gross income</th>\n",
       "      <th>Rating</th>\n",
       "    </tr>\n",
       "  </thead>\n",
       "  <tbody>\n",
       "    <tr>\n",
       "      <th>count</th>\n",
       "      <td>1000.000000</td>\n",
       "      <td>1000.000000</td>\n",
       "      <td>1000.000000</td>\n",
       "      <td>1000.000000</td>\n",
       "      <td>1000.00000</td>\n",
       "      <td>1000.000000</td>\n",
       "      <td>1000.000000</td>\n",
       "      <td>1000.00000</td>\n",
       "    </tr>\n",
       "    <tr>\n",
       "      <th>mean</th>\n",
       "      <td>55.672130</td>\n",
       "      <td>5.510000</td>\n",
       "      <td>15.379369</td>\n",
       "      <td>322.966749</td>\n",
       "      <td>307.58738</td>\n",
       "      <td>4.761905</td>\n",
       "      <td>15.379369</td>\n",
       "      <td>6.97270</td>\n",
       "    </tr>\n",
       "    <tr>\n",
       "      <th>std</th>\n",
       "      <td>26.494628</td>\n",
       "      <td>2.923431</td>\n",
       "      <td>11.708825</td>\n",
       "      <td>245.885335</td>\n",
       "      <td>234.17651</td>\n",
       "      <td>0.000000</td>\n",
       "      <td>11.708825</td>\n",
       "      <td>1.71858</td>\n",
       "    </tr>\n",
       "    <tr>\n",
       "      <th>min</th>\n",
       "      <td>10.080000</td>\n",
       "      <td>1.000000</td>\n",
       "      <td>0.508500</td>\n",
       "      <td>10.678500</td>\n",
       "      <td>10.17000</td>\n",
       "      <td>4.761905</td>\n",
       "      <td>0.508500</td>\n",
       "      <td>4.00000</td>\n",
       "    </tr>\n",
       "    <tr>\n",
       "      <th>25%</th>\n",
       "      <td>32.875000</td>\n",
       "      <td>3.000000</td>\n",
       "      <td>5.924875</td>\n",
       "      <td>124.422375</td>\n",
       "      <td>118.49750</td>\n",
       "      <td>4.761905</td>\n",
       "      <td>5.924875</td>\n",
       "      <td>5.50000</td>\n",
       "    </tr>\n",
       "    <tr>\n",
       "      <th>50%</th>\n",
       "      <td>55.230000</td>\n",
       "      <td>5.000000</td>\n",
       "      <td>12.088000</td>\n",
       "      <td>253.848000</td>\n",
       "      <td>241.76000</td>\n",
       "      <td>4.761905</td>\n",
       "      <td>12.088000</td>\n",
       "      <td>7.00000</td>\n",
       "    </tr>\n",
       "    <tr>\n",
       "      <th>75%</th>\n",
       "      <td>77.935000</td>\n",
       "      <td>8.000000</td>\n",
       "      <td>22.445250</td>\n",
       "      <td>471.350250</td>\n",
       "      <td>448.90500</td>\n",
       "      <td>4.761905</td>\n",
       "      <td>22.445250</td>\n",
       "      <td>8.50000</td>\n",
       "    </tr>\n",
       "    <tr>\n",
       "      <th>max</th>\n",
       "      <td>99.960000</td>\n",
       "      <td>10.000000</td>\n",
       "      <td>49.650000</td>\n",
       "      <td>1042.650000</td>\n",
       "      <td>993.00000</td>\n",
       "      <td>4.761905</td>\n",
       "      <td>49.650000</td>\n",
       "      <td>10.00000</td>\n",
       "    </tr>\n",
       "  </tbody>\n",
       "</table>\n",
       "</div>"
      ],
      "text/plain": [
       "        Unit price     Quantity       Tax 5%        Total        cogs  \\\n",
       "count  1000.000000  1000.000000  1000.000000  1000.000000  1000.00000   \n",
       "mean     55.672130     5.510000    15.379369   322.966749   307.58738   \n",
       "std      26.494628     2.923431    11.708825   245.885335   234.17651   \n",
       "min      10.080000     1.000000     0.508500    10.678500    10.17000   \n",
       "25%      32.875000     3.000000     5.924875   124.422375   118.49750   \n",
       "50%      55.230000     5.000000    12.088000   253.848000   241.76000   \n",
       "75%      77.935000     8.000000    22.445250   471.350250   448.90500   \n",
       "max      99.960000    10.000000    49.650000  1042.650000   993.00000   \n",
       "\n",
       "       gross margin percentage  gross income      Rating  \n",
       "count              1000.000000   1000.000000  1000.00000  \n",
       "mean                  4.761905     15.379369     6.97270  \n",
       "std                   0.000000     11.708825     1.71858  \n",
       "min                   4.761905      0.508500     4.00000  \n",
       "25%                   4.761905      5.924875     5.50000  \n",
       "50%                   4.761905     12.088000     7.00000  \n",
       "75%                   4.761905     22.445250     8.50000  \n",
       "max                   4.761905     49.650000    10.00000  "
      ]
     },
     "execution_count": 12,
     "metadata": {},
     "output_type": "execute_result"
    }
   ],
   "source": [
    "sales.describe()  # Statistical Summary"
   ]
  },
  {
   "cell_type": "code",
   "execution_count": 13,
   "id": "7e5feeee",
   "metadata": {
    "execution": {
     "iopub.execute_input": "2024-03-27T19:05:01.355687Z",
     "iopub.status.busy": "2024-03-27T19:05:01.355214Z",
     "iopub.status.idle": "2024-03-27T19:05:01.365679Z",
     "shell.execute_reply": "2024-03-27T19:05:01.364440Z"
    },
    "id": "TIeDaeDS1kzk",
    "outputId": "53c1aab8-3009-4011-98ad-42c1f6209f33",
    "papermill": {
     "duration": 0.02403,
     "end_time": "2024-03-27T19:05:01.367970",
     "exception": false,
     "start_time": "2024-03-27T19:05:01.343940",
     "status": "completed"
    },
    "tags": []
   },
   "outputs": [
    {
     "data": {
      "text/plain": [
       "Invoice ID                 0\n",
       "Branch                     0\n",
       "City                       0\n",
       "Customer type              0\n",
       "Gender                     0\n",
       "Product line               0\n",
       "Unit price                 0\n",
       "Quantity                   0\n",
       "Tax 5%                     0\n",
       "Total                      0\n",
       "Time                       0\n",
       "Payment                    0\n",
       "cogs                       0\n",
       "gross margin percentage    0\n",
       "gross income               0\n",
       "Rating                     0\n",
       "dtype: int64"
      ]
     },
     "execution_count": 13,
     "metadata": {},
     "output_type": "execute_result"
    }
   ],
   "source": [
    "sales.isnull().sum() # To check null values"
   ]
  },
  {
   "cell_type": "markdown",
   "id": "6b5abb5d",
   "metadata": {
    "id": "jIBH2qIDS8ga",
    "papermill": {
     "duration": 0.00931,
     "end_time": "2024-03-27T19:05:01.387111",
     "exception": false,
     "start_time": "2024-03-27T19:05:01.377801",
     "status": "completed"
    },
    "tags": []
   },
   "source": [
    "Lets's first handle Unit Price column by using mean value"
   ]
  },
  {
   "cell_type": "code",
   "execution_count": 14,
   "id": "58404684",
   "metadata": {
    "execution": {
     "iopub.execute_input": "2024-03-27T19:05:01.408490Z",
     "iopub.status.busy": "2024-03-27T19:05:01.408109Z",
     "iopub.status.idle": "2024-03-27T19:05:01.413196Z",
     "shell.execute_reply": "2024-03-27T19:05:01.412086Z"
    },
    "papermill": {
     "duration": 0.018731,
     "end_time": "2024-03-27T19:05:01.415423",
     "exception": false,
     "start_time": "2024-03-27T19:05:01.396692",
     "status": "completed"
    },
    "tags": []
   },
   "outputs": [],
   "source": [
    "import warnings\n",
    "warnings.filterwarnings(\"ignore\")"
   ]
  },
  {
   "cell_type": "code",
   "execution_count": 15,
   "id": "1b752569",
   "metadata": {
    "execution": {
     "iopub.execute_input": "2024-03-27T19:05:01.437930Z",
     "iopub.status.busy": "2024-03-27T19:05:01.436928Z",
     "iopub.status.idle": "2024-03-27T19:05:01.443960Z",
     "shell.execute_reply": "2024-03-27T19:05:01.442970Z"
    },
    "id": "OW3tvfhvM6Tf",
    "papermill": {
     "duration": 0.020828,
     "end_time": "2024-03-27T19:05:01.446063",
     "exception": false,
     "start_time": "2024-03-27T19:05:01.425235",
     "status": "completed"
    },
    "tags": []
   },
   "outputs": [],
   "source": [
    "avg_unit_price = sales[\"Unit price\"].astype(\"float\").mean(axis=0)\n",
    "sales[\"Unit price\"].replace(np.nan, avg_unit_price, inplace=True)"
   ]
  },
  {
   "cell_type": "markdown",
   "id": "851e0801",
   "metadata": {
    "id": "tb7ZgEc2TObJ",
    "papermill": {
     "duration": 0.009878,
     "end_time": "2024-03-27T19:05:01.465687",
     "exception": false,
     "start_time": "2024-03-27T19:05:01.455809",
     "status": "completed"
    },
    "tags": []
   },
   "source": [
    "For Quantity we will use Mode value"
   ]
  },
  {
   "cell_type": "code",
   "execution_count": 16,
   "id": "22841bd0",
   "metadata": {
    "execution": {
     "iopub.execute_input": "2024-03-27T19:05:01.487762Z",
     "iopub.status.busy": "2024-03-27T19:05:01.486895Z",
     "iopub.status.idle": "2024-03-27T19:05:01.494819Z",
     "shell.execute_reply": "2024-03-27T19:05:01.493588Z"
    },
    "id": "_N2TR-k8OCdK",
    "outputId": "1e66ab87-0928-4b4c-f0e6-9737c6c2dfd1",
    "papermill": {
     "duration": 0.02165,
     "end_time": "2024-03-27T19:05:01.497021",
     "exception": false,
     "start_time": "2024-03-27T19:05:01.475371",
     "status": "completed"
    },
    "tags": []
   },
   "outputs": [
    {
     "name": "stdout",
     "output_type": "stream",
     "text": [
      "ModeResult(mode=10, count=119)\n"
     ]
    }
   ],
   "source": [
    "from scipy import stats\n",
    "mode=stats.mode(sales['Quantity'])\n",
    "\n",
    "print(mode)"
   ]
  },
  {
   "cell_type": "code",
   "execution_count": 17,
   "id": "6c5014e2",
   "metadata": {
    "execution": {
     "iopub.execute_input": "2024-03-27T19:05:01.519045Z",
     "iopub.status.busy": "2024-03-27T19:05:01.517977Z",
     "iopub.status.idle": "2024-03-27T19:05:01.523383Z",
     "shell.execute_reply": "2024-03-27T19:05:01.522567Z"
    },
    "id": "yeA-G_oFOE5h",
    "papermill": {
     "duration": 0.018475,
     "end_time": "2024-03-27T19:05:01.525392",
     "exception": false,
     "start_time": "2024-03-27T19:05:01.506917",
     "status": "completed"
    },
    "tags": []
   },
   "outputs": [],
   "source": [
    "sales['Quantity'].replace(np.nan, \"mode\", inplace=True)"
   ]
  },
  {
   "cell_type": "markdown",
   "id": "f56fa132",
   "metadata": {
    "id": "YPRTb3WQTXpf",
    "papermill": {
     "duration": 0.009401,
     "end_time": "2024-03-27T19:05:01.544555",
     "exception": false,
     "start_time": "2024-03-27T19:05:01.535154",
     "status": "completed"
    },
    "tags": []
   },
   "source": [
    "For rest remaining values we will simply drop them"
   ]
  },
  {
   "cell_type": "code",
   "execution_count": 18,
   "id": "f6e66f80",
   "metadata": {
    "execution": {
     "iopub.execute_input": "2024-03-27T19:05:01.566329Z",
     "iopub.status.busy": "2024-03-27T19:05:01.565259Z",
     "iopub.status.idle": "2024-03-27T19:05:01.573790Z",
     "shell.execute_reply": "2024-03-27T19:05:01.572476Z"
    },
    "id": "-ytZqC8wOVHT",
    "papermill": {
     "duration": 0.022025,
     "end_time": "2024-03-27T19:05:01.576294",
     "exception": false,
     "start_time": "2024-03-27T19:05:01.554269",
     "status": "completed"
    },
    "tags": []
   },
   "outputs": [],
   "source": [
    "sales.dropna(inplace=True)"
   ]
  },
  {
   "cell_type": "code",
   "execution_count": 19,
   "id": "492795cb",
   "metadata": {
    "execution": {
     "iopub.execute_input": "2024-03-27T19:05:01.598637Z",
     "iopub.status.busy": "2024-03-27T19:05:01.597431Z",
     "iopub.status.idle": "2024-03-27T19:05:01.608690Z",
     "shell.execute_reply": "2024-03-27T19:05:01.607352Z"
    },
    "id": "fomjUOq8POAI",
    "outputId": "5c03f33c-b114-446c-db99-abc79bb8b0ee",
    "papermill": {
     "duration": 0.025118,
     "end_time": "2024-03-27T19:05:01.611311",
     "exception": false,
     "start_time": "2024-03-27T19:05:01.586193",
     "status": "completed"
    },
    "tags": []
   },
   "outputs": [
    {
     "data": {
      "text/plain": [
       "Invoice ID                 0\n",
       "Branch                     0\n",
       "City                       0\n",
       "Customer type              0\n",
       "Gender                     0\n",
       "Product line               0\n",
       "Unit price                 0\n",
       "Quantity                   0\n",
       "Tax 5%                     0\n",
       "Total                      0\n",
       "Time                       0\n",
       "Payment                    0\n",
       "cogs                       0\n",
       "gross margin percentage    0\n",
       "gross income               0\n",
       "Rating                     0\n",
       "dtype: int64"
      ]
     },
     "execution_count": 19,
     "metadata": {},
     "output_type": "execute_result"
    }
   ],
   "source": [
    "sales.isnull().sum() # Finally we can see No null values"
   ]
  },
  {
   "cell_type": "code",
   "execution_count": 20,
   "id": "6d2ee68a",
   "metadata": {
    "execution": {
     "iopub.execute_input": "2024-03-27T19:05:01.633451Z",
     "iopub.status.busy": "2024-03-27T19:05:01.633069Z",
     "iopub.status.idle": "2024-03-27T19:05:01.659686Z",
     "shell.execute_reply": "2024-03-27T19:05:01.658535Z"
    },
    "papermill": {
     "duration": 0.04057,
     "end_time": "2024-03-27T19:05:01.662252",
     "exception": false,
     "start_time": "2024-03-27T19:05:01.621682",
     "status": "completed"
    },
    "tags": []
   },
   "outputs": [
    {
     "name": "stdout",
     "output_type": "stream",
     "text": [
      "Columns with non-numeric values: Index(['Invoice ID', 'Branch', 'City', 'Customer type', 'Gender',\n",
      "       'Product line', 'Time', 'Payment'],\n",
      "      dtype='object')\n",
      "Correlation Matrix:\n",
      "Empty DataFrame\n",
      "Columns: [Invoice ID, Branch, City, Customer type, Gender, Product line, Unit price, Quantity, Tax 5%, Total, Time, Payment, cogs, gross margin percentage, gross income, Rating]\n",
      "Index: []\n"
     ]
    }
   ],
   "source": [
    "non_numeric_columns = sales.select_dtypes(exclude=['float', 'int']).columns\n",
    "print(\"Columns with non-numeric values:\", non_numeric_columns)\n",
    "\n",
    "sales[non_numeric_columns] = sales[non_numeric_columns].apply(pd.to_numeric, errors='coerce')\n",
    "\n",
    "\n",
    "correlation_matrix = sales.corr()\n",
    "\n",
    "# Optionally, you can handle NaN values if any\n",
    "# For example, you can drop rows or columns with NaN values\n",
    "correlation_matrix.dropna(inplace=True)  # Drop rows with NaN values\n",
    "correlation_matrix.dropna(axis=1, inplace=True)  # Drop columns with NaN values\n",
    "\n",
    "# Display the correlation matrix\n",
    "print(\"Correlation Matrix:\")\n",
    "print(correlation_matrix)\n"
   ]
  },
  {
   "cell_type": "code",
   "execution_count": 21,
   "id": "9cbde6ba",
   "metadata": {
    "execution": {
     "iopub.execute_input": "2024-03-27T19:05:01.685759Z",
     "iopub.status.busy": "2024-03-27T19:05:01.684667Z",
     "iopub.status.idle": "2024-03-27T19:05:01.710425Z",
     "shell.execute_reply": "2024-03-27T19:05:01.709239Z"
    },
    "id": "0DD1bkGEUl8s",
    "outputId": "4f751c57-7b68-47e6-d835-55132e833650",
    "papermill": {
     "duration": 0.040204,
     "end_time": "2024-03-27T19:05:01.713056",
     "exception": false,
     "start_time": "2024-03-27T19:05:01.672852",
     "status": "completed"
    },
    "tags": []
   },
   "outputs": [
    {
     "data": {
      "text/html": [
       "<div>\n",
       "<style scoped>\n",
       "    .dataframe tbody tr th:only-of-type {\n",
       "        vertical-align: middle;\n",
       "    }\n",
       "\n",
       "    .dataframe tbody tr th {\n",
       "        vertical-align: top;\n",
       "    }\n",
       "\n",
       "    .dataframe thead th {\n",
       "        text-align: right;\n",
       "    }\n",
       "</style>\n",
       "<table border=\"1\" class=\"dataframe\">\n",
       "  <thead>\n",
       "    <tr style=\"text-align: right;\">\n",
       "      <th></th>\n",
       "      <th>Invoice ID</th>\n",
       "      <th>Branch</th>\n",
       "      <th>City</th>\n",
       "      <th>Customer type</th>\n",
       "      <th>Gender</th>\n",
       "      <th>Product line</th>\n",
       "      <th>Unit price</th>\n",
       "      <th>Quantity</th>\n",
       "      <th>Tax 5%</th>\n",
       "      <th>Total</th>\n",
       "      <th>Time</th>\n",
       "      <th>Payment</th>\n",
       "      <th>cogs</th>\n",
       "      <th>gross margin percentage</th>\n",
       "      <th>gross income</th>\n",
       "      <th>Rating</th>\n",
       "    </tr>\n",
       "  </thead>\n",
       "  <tbody>\n",
       "    <tr>\n",
       "      <th>Invoice ID</th>\n",
       "      <td>NaN</td>\n",
       "      <td>NaN</td>\n",
       "      <td>NaN</td>\n",
       "      <td>NaN</td>\n",
       "      <td>NaN</td>\n",
       "      <td>NaN</td>\n",
       "      <td>NaN</td>\n",
       "      <td>NaN</td>\n",
       "      <td>NaN</td>\n",
       "      <td>NaN</td>\n",
       "      <td>NaN</td>\n",
       "      <td>NaN</td>\n",
       "      <td>NaN</td>\n",
       "      <td>NaN</td>\n",
       "      <td>NaN</td>\n",
       "      <td>NaN</td>\n",
       "    </tr>\n",
       "    <tr>\n",
       "      <th>Branch</th>\n",
       "      <td>NaN</td>\n",
       "      <td>NaN</td>\n",
       "      <td>NaN</td>\n",
       "      <td>NaN</td>\n",
       "      <td>NaN</td>\n",
       "      <td>NaN</td>\n",
       "      <td>NaN</td>\n",
       "      <td>NaN</td>\n",
       "      <td>NaN</td>\n",
       "      <td>NaN</td>\n",
       "      <td>NaN</td>\n",
       "      <td>NaN</td>\n",
       "      <td>NaN</td>\n",
       "      <td>NaN</td>\n",
       "      <td>NaN</td>\n",
       "      <td>NaN</td>\n",
       "    </tr>\n",
       "    <tr>\n",
       "      <th>City</th>\n",
       "      <td>NaN</td>\n",
       "      <td>NaN</td>\n",
       "      <td>NaN</td>\n",
       "      <td>NaN</td>\n",
       "      <td>NaN</td>\n",
       "      <td>NaN</td>\n",
       "      <td>NaN</td>\n",
       "      <td>NaN</td>\n",
       "      <td>NaN</td>\n",
       "      <td>NaN</td>\n",
       "      <td>NaN</td>\n",
       "      <td>NaN</td>\n",
       "      <td>NaN</td>\n",
       "      <td>NaN</td>\n",
       "      <td>NaN</td>\n",
       "      <td>NaN</td>\n",
       "    </tr>\n",
       "    <tr>\n",
       "      <th>Customer type</th>\n",
       "      <td>NaN</td>\n",
       "      <td>NaN</td>\n",
       "      <td>NaN</td>\n",
       "      <td>NaN</td>\n",
       "      <td>NaN</td>\n",
       "      <td>NaN</td>\n",
       "      <td>NaN</td>\n",
       "      <td>NaN</td>\n",
       "      <td>NaN</td>\n",
       "      <td>NaN</td>\n",
       "      <td>NaN</td>\n",
       "      <td>NaN</td>\n",
       "      <td>NaN</td>\n",
       "      <td>NaN</td>\n",
       "      <td>NaN</td>\n",
       "      <td>NaN</td>\n",
       "    </tr>\n",
       "    <tr>\n",
       "      <th>Gender</th>\n",
       "      <td>NaN</td>\n",
       "      <td>NaN</td>\n",
       "      <td>NaN</td>\n",
       "      <td>NaN</td>\n",
       "      <td>NaN</td>\n",
       "      <td>NaN</td>\n",
       "      <td>NaN</td>\n",
       "      <td>NaN</td>\n",
       "      <td>NaN</td>\n",
       "      <td>NaN</td>\n",
       "      <td>NaN</td>\n",
       "      <td>NaN</td>\n",
       "      <td>NaN</td>\n",
       "      <td>NaN</td>\n",
       "      <td>NaN</td>\n",
       "      <td>NaN</td>\n",
       "    </tr>\n",
       "    <tr>\n",
       "      <th>Product line</th>\n",
       "      <td>NaN</td>\n",
       "      <td>NaN</td>\n",
       "      <td>NaN</td>\n",
       "      <td>NaN</td>\n",
       "      <td>NaN</td>\n",
       "      <td>NaN</td>\n",
       "      <td>NaN</td>\n",
       "      <td>NaN</td>\n",
       "      <td>NaN</td>\n",
       "      <td>NaN</td>\n",
       "      <td>NaN</td>\n",
       "      <td>NaN</td>\n",
       "      <td>NaN</td>\n",
       "      <td>NaN</td>\n",
       "      <td>NaN</td>\n",
       "      <td>NaN</td>\n",
       "    </tr>\n",
       "    <tr>\n",
       "      <th>Unit price</th>\n",
       "      <td>NaN</td>\n",
       "      <td>NaN</td>\n",
       "      <td>NaN</td>\n",
       "      <td>NaN</td>\n",
       "      <td>NaN</td>\n",
       "      <td>NaN</td>\n",
       "      <td>1.000000</td>\n",
       "      <td>0.010778</td>\n",
       "      <td>0.633962</td>\n",
       "      <td>0.633962</td>\n",
       "      <td>NaN</td>\n",
       "      <td>NaN</td>\n",
       "      <td>0.633962</td>\n",
       "      <td>NaN</td>\n",
       "      <td>0.633962</td>\n",
       "      <td>-0.008778</td>\n",
       "    </tr>\n",
       "    <tr>\n",
       "      <th>Quantity</th>\n",
       "      <td>NaN</td>\n",
       "      <td>NaN</td>\n",
       "      <td>NaN</td>\n",
       "      <td>NaN</td>\n",
       "      <td>NaN</td>\n",
       "      <td>NaN</td>\n",
       "      <td>0.010778</td>\n",
       "      <td>1.000000</td>\n",
       "      <td>0.705510</td>\n",
       "      <td>0.705510</td>\n",
       "      <td>NaN</td>\n",
       "      <td>NaN</td>\n",
       "      <td>0.705510</td>\n",
       "      <td>NaN</td>\n",
       "      <td>0.705510</td>\n",
       "      <td>-0.015815</td>\n",
       "    </tr>\n",
       "    <tr>\n",
       "      <th>Tax 5%</th>\n",
       "      <td>NaN</td>\n",
       "      <td>NaN</td>\n",
       "      <td>NaN</td>\n",
       "      <td>NaN</td>\n",
       "      <td>NaN</td>\n",
       "      <td>NaN</td>\n",
       "      <td>0.633962</td>\n",
       "      <td>0.705510</td>\n",
       "      <td>1.000000</td>\n",
       "      <td>1.000000</td>\n",
       "      <td>NaN</td>\n",
       "      <td>NaN</td>\n",
       "      <td>1.000000</td>\n",
       "      <td>NaN</td>\n",
       "      <td>1.000000</td>\n",
       "      <td>-0.036442</td>\n",
       "    </tr>\n",
       "    <tr>\n",
       "      <th>Total</th>\n",
       "      <td>NaN</td>\n",
       "      <td>NaN</td>\n",
       "      <td>NaN</td>\n",
       "      <td>NaN</td>\n",
       "      <td>NaN</td>\n",
       "      <td>NaN</td>\n",
       "      <td>0.633962</td>\n",
       "      <td>0.705510</td>\n",
       "      <td>1.000000</td>\n",
       "      <td>1.000000</td>\n",
       "      <td>NaN</td>\n",
       "      <td>NaN</td>\n",
       "      <td>1.000000</td>\n",
       "      <td>NaN</td>\n",
       "      <td>1.000000</td>\n",
       "      <td>-0.036442</td>\n",
       "    </tr>\n",
       "    <tr>\n",
       "      <th>Time</th>\n",
       "      <td>NaN</td>\n",
       "      <td>NaN</td>\n",
       "      <td>NaN</td>\n",
       "      <td>NaN</td>\n",
       "      <td>NaN</td>\n",
       "      <td>NaN</td>\n",
       "      <td>NaN</td>\n",
       "      <td>NaN</td>\n",
       "      <td>NaN</td>\n",
       "      <td>NaN</td>\n",
       "      <td>NaN</td>\n",
       "      <td>NaN</td>\n",
       "      <td>NaN</td>\n",
       "      <td>NaN</td>\n",
       "      <td>NaN</td>\n",
       "      <td>NaN</td>\n",
       "    </tr>\n",
       "    <tr>\n",
       "      <th>Payment</th>\n",
       "      <td>NaN</td>\n",
       "      <td>NaN</td>\n",
       "      <td>NaN</td>\n",
       "      <td>NaN</td>\n",
       "      <td>NaN</td>\n",
       "      <td>NaN</td>\n",
       "      <td>NaN</td>\n",
       "      <td>NaN</td>\n",
       "      <td>NaN</td>\n",
       "      <td>NaN</td>\n",
       "      <td>NaN</td>\n",
       "      <td>NaN</td>\n",
       "      <td>NaN</td>\n",
       "      <td>NaN</td>\n",
       "      <td>NaN</td>\n",
       "      <td>NaN</td>\n",
       "    </tr>\n",
       "    <tr>\n",
       "      <th>cogs</th>\n",
       "      <td>NaN</td>\n",
       "      <td>NaN</td>\n",
       "      <td>NaN</td>\n",
       "      <td>NaN</td>\n",
       "      <td>NaN</td>\n",
       "      <td>NaN</td>\n",
       "      <td>0.633962</td>\n",
       "      <td>0.705510</td>\n",
       "      <td>1.000000</td>\n",
       "      <td>1.000000</td>\n",
       "      <td>NaN</td>\n",
       "      <td>NaN</td>\n",
       "      <td>1.000000</td>\n",
       "      <td>NaN</td>\n",
       "      <td>1.000000</td>\n",
       "      <td>-0.036442</td>\n",
       "    </tr>\n",
       "    <tr>\n",
       "      <th>gross margin percentage</th>\n",
       "      <td>NaN</td>\n",
       "      <td>NaN</td>\n",
       "      <td>NaN</td>\n",
       "      <td>NaN</td>\n",
       "      <td>NaN</td>\n",
       "      <td>NaN</td>\n",
       "      <td>NaN</td>\n",
       "      <td>NaN</td>\n",
       "      <td>NaN</td>\n",
       "      <td>NaN</td>\n",
       "      <td>NaN</td>\n",
       "      <td>NaN</td>\n",
       "      <td>NaN</td>\n",
       "      <td>NaN</td>\n",
       "      <td>NaN</td>\n",
       "      <td>NaN</td>\n",
       "    </tr>\n",
       "    <tr>\n",
       "      <th>gross income</th>\n",
       "      <td>NaN</td>\n",
       "      <td>NaN</td>\n",
       "      <td>NaN</td>\n",
       "      <td>NaN</td>\n",
       "      <td>NaN</td>\n",
       "      <td>NaN</td>\n",
       "      <td>0.633962</td>\n",
       "      <td>0.705510</td>\n",
       "      <td>1.000000</td>\n",
       "      <td>1.000000</td>\n",
       "      <td>NaN</td>\n",
       "      <td>NaN</td>\n",
       "      <td>1.000000</td>\n",
       "      <td>NaN</td>\n",
       "      <td>1.000000</td>\n",
       "      <td>-0.036442</td>\n",
       "    </tr>\n",
       "    <tr>\n",
       "      <th>Rating</th>\n",
       "      <td>NaN</td>\n",
       "      <td>NaN</td>\n",
       "      <td>NaN</td>\n",
       "      <td>NaN</td>\n",
       "      <td>NaN</td>\n",
       "      <td>NaN</td>\n",
       "      <td>-0.008778</td>\n",
       "      <td>-0.015815</td>\n",
       "      <td>-0.036442</td>\n",
       "      <td>-0.036442</td>\n",
       "      <td>NaN</td>\n",
       "      <td>NaN</td>\n",
       "      <td>-0.036442</td>\n",
       "      <td>NaN</td>\n",
       "      <td>-0.036442</td>\n",
       "      <td>1.000000</td>\n",
       "    </tr>\n",
       "  </tbody>\n",
       "</table>\n",
       "</div>"
      ],
      "text/plain": [
       "                         Invoice ID  Branch  City  Customer type  Gender  \\\n",
       "Invoice ID                      NaN     NaN   NaN            NaN     NaN   \n",
       "Branch                          NaN     NaN   NaN            NaN     NaN   \n",
       "City                            NaN     NaN   NaN            NaN     NaN   \n",
       "Customer type                   NaN     NaN   NaN            NaN     NaN   \n",
       "Gender                          NaN     NaN   NaN            NaN     NaN   \n",
       "Product line                    NaN     NaN   NaN            NaN     NaN   \n",
       "Unit price                      NaN     NaN   NaN            NaN     NaN   \n",
       "Quantity                        NaN     NaN   NaN            NaN     NaN   \n",
       "Tax 5%                          NaN     NaN   NaN            NaN     NaN   \n",
       "Total                           NaN     NaN   NaN            NaN     NaN   \n",
       "Time                            NaN     NaN   NaN            NaN     NaN   \n",
       "Payment                         NaN     NaN   NaN            NaN     NaN   \n",
       "cogs                            NaN     NaN   NaN            NaN     NaN   \n",
       "gross margin percentage         NaN     NaN   NaN            NaN     NaN   \n",
       "gross income                    NaN     NaN   NaN            NaN     NaN   \n",
       "Rating                          NaN     NaN   NaN            NaN     NaN   \n",
       "\n",
       "                         Product line  Unit price  Quantity    Tax 5%  \\\n",
       "Invoice ID                        NaN         NaN       NaN       NaN   \n",
       "Branch                            NaN         NaN       NaN       NaN   \n",
       "City                              NaN         NaN       NaN       NaN   \n",
       "Customer type                     NaN         NaN       NaN       NaN   \n",
       "Gender                            NaN         NaN       NaN       NaN   \n",
       "Product line                      NaN         NaN       NaN       NaN   \n",
       "Unit price                        NaN    1.000000  0.010778  0.633962   \n",
       "Quantity                          NaN    0.010778  1.000000  0.705510   \n",
       "Tax 5%                            NaN    0.633962  0.705510  1.000000   \n",
       "Total                             NaN    0.633962  0.705510  1.000000   \n",
       "Time                              NaN         NaN       NaN       NaN   \n",
       "Payment                           NaN         NaN       NaN       NaN   \n",
       "cogs                              NaN    0.633962  0.705510  1.000000   \n",
       "gross margin percentage           NaN         NaN       NaN       NaN   \n",
       "gross income                      NaN    0.633962  0.705510  1.000000   \n",
       "Rating                            NaN   -0.008778 -0.015815 -0.036442   \n",
       "\n",
       "                            Total  Time  Payment      cogs  \\\n",
       "Invoice ID                    NaN   NaN      NaN       NaN   \n",
       "Branch                        NaN   NaN      NaN       NaN   \n",
       "City                          NaN   NaN      NaN       NaN   \n",
       "Customer type                 NaN   NaN      NaN       NaN   \n",
       "Gender                        NaN   NaN      NaN       NaN   \n",
       "Product line                  NaN   NaN      NaN       NaN   \n",
       "Unit price               0.633962   NaN      NaN  0.633962   \n",
       "Quantity                 0.705510   NaN      NaN  0.705510   \n",
       "Tax 5%                   1.000000   NaN      NaN  1.000000   \n",
       "Total                    1.000000   NaN      NaN  1.000000   \n",
       "Time                          NaN   NaN      NaN       NaN   \n",
       "Payment                       NaN   NaN      NaN       NaN   \n",
       "cogs                     1.000000   NaN      NaN  1.000000   \n",
       "gross margin percentage       NaN   NaN      NaN       NaN   \n",
       "gross income             1.000000   NaN      NaN  1.000000   \n",
       "Rating                  -0.036442   NaN      NaN -0.036442   \n",
       "\n",
       "                         gross margin percentage  gross income    Rating  \n",
       "Invoice ID                                   NaN           NaN       NaN  \n",
       "Branch                                       NaN           NaN       NaN  \n",
       "City                                         NaN           NaN       NaN  \n",
       "Customer type                                NaN           NaN       NaN  \n",
       "Gender                                       NaN           NaN       NaN  \n",
       "Product line                                 NaN           NaN       NaN  \n",
       "Unit price                                   NaN      0.633962 -0.008778  \n",
       "Quantity                                     NaN      0.705510 -0.015815  \n",
       "Tax 5%                                       NaN      1.000000 -0.036442  \n",
       "Total                                        NaN      1.000000 -0.036442  \n",
       "Time                                         NaN           NaN       NaN  \n",
       "Payment                                      NaN           NaN       NaN  \n",
       "cogs                                         NaN      1.000000 -0.036442  \n",
       "gross margin percentage                      NaN           NaN       NaN  \n",
       "gross income                                 NaN      1.000000 -0.036442  \n",
       "Rating                                       NaN     -0.036442  1.000000  "
      ]
     },
     "execution_count": 21,
     "metadata": {},
     "output_type": "execute_result"
    }
   ],
   "source": [
    "sales.corr()"
   ]
  },
  {
   "cell_type": "code",
   "execution_count": 22,
   "id": "824269f8",
   "metadata": {
    "execution": {
     "iopub.execute_input": "2024-03-27T19:05:01.736209Z",
     "iopub.status.busy": "2024-03-27T19:05:01.735783Z",
     "iopub.status.idle": "2024-03-27T19:05:01.764987Z",
     "shell.execute_reply": "2024-03-27T19:05:01.763795Z"
    },
    "id": "mMVIqdJLUk_K",
    "outputId": "9c079941-2992-4cae-80ca-fb7c0788c74a",
    "papermill": {
     "duration": 0.043448,
     "end_time": "2024-03-27T19:05:01.767257",
     "exception": false,
     "start_time": "2024-03-27T19:05:01.723809",
     "status": "completed"
    },
    "tags": []
   },
   "outputs": [
    {
     "data": {
      "text/html": [
       "<div>\n",
       "<style scoped>\n",
       "    .dataframe tbody tr th:only-of-type {\n",
       "        vertical-align: middle;\n",
       "    }\n",
       "\n",
       "    .dataframe tbody tr th {\n",
       "        vertical-align: top;\n",
       "    }\n",
       "\n",
       "    .dataframe thead th {\n",
       "        text-align: right;\n",
       "    }\n",
       "</style>\n",
       "<table border=\"1\" class=\"dataframe\">\n",
       "  <thead>\n",
       "    <tr style=\"text-align: right;\">\n",
       "      <th></th>\n",
       "      <th>Invoice ID</th>\n",
       "      <th>Branch</th>\n",
       "      <th>City</th>\n",
       "      <th>Customer type</th>\n",
       "      <th>Gender</th>\n",
       "      <th>Product line</th>\n",
       "      <th>Unit price</th>\n",
       "      <th>Quantity</th>\n",
       "      <th>Tax 5%</th>\n",
       "      <th>Total</th>\n",
       "      <th>Time</th>\n",
       "      <th>Payment</th>\n",
       "      <th>cogs</th>\n",
       "      <th>gross margin percentage</th>\n",
       "      <th>gross income</th>\n",
       "      <th>Rating</th>\n",
       "    </tr>\n",
       "  </thead>\n",
       "  <tbody>\n",
       "    <tr>\n",
       "      <th>Invoice ID</th>\n",
       "      <td>NaN</td>\n",
       "      <td>NaN</td>\n",
       "      <td>NaN</td>\n",
       "      <td>NaN</td>\n",
       "      <td>NaN</td>\n",
       "      <td>NaN</td>\n",
       "      <td>NaN</td>\n",
       "      <td>NaN</td>\n",
       "      <td>NaN</td>\n",
       "      <td>NaN</td>\n",
       "      <td>NaN</td>\n",
       "      <td>NaN</td>\n",
       "      <td>NaN</td>\n",
       "      <td>NaN</td>\n",
       "      <td>NaN</td>\n",
       "      <td>NaN</td>\n",
       "    </tr>\n",
       "    <tr>\n",
       "      <th>Branch</th>\n",
       "      <td>NaN</td>\n",
       "      <td>NaN</td>\n",
       "      <td>NaN</td>\n",
       "      <td>NaN</td>\n",
       "      <td>NaN</td>\n",
       "      <td>NaN</td>\n",
       "      <td>NaN</td>\n",
       "      <td>NaN</td>\n",
       "      <td>NaN</td>\n",
       "      <td>NaN</td>\n",
       "      <td>NaN</td>\n",
       "      <td>NaN</td>\n",
       "      <td>NaN</td>\n",
       "      <td>NaN</td>\n",
       "      <td>NaN</td>\n",
       "      <td>NaN</td>\n",
       "    </tr>\n",
       "    <tr>\n",
       "      <th>City</th>\n",
       "      <td>NaN</td>\n",
       "      <td>NaN</td>\n",
       "      <td>NaN</td>\n",
       "      <td>NaN</td>\n",
       "      <td>NaN</td>\n",
       "      <td>NaN</td>\n",
       "      <td>NaN</td>\n",
       "      <td>NaN</td>\n",
       "      <td>NaN</td>\n",
       "      <td>NaN</td>\n",
       "      <td>NaN</td>\n",
       "      <td>NaN</td>\n",
       "      <td>NaN</td>\n",
       "      <td>NaN</td>\n",
       "      <td>NaN</td>\n",
       "      <td>NaN</td>\n",
       "    </tr>\n",
       "    <tr>\n",
       "      <th>Customer type</th>\n",
       "      <td>NaN</td>\n",
       "      <td>NaN</td>\n",
       "      <td>NaN</td>\n",
       "      <td>NaN</td>\n",
       "      <td>NaN</td>\n",
       "      <td>NaN</td>\n",
       "      <td>NaN</td>\n",
       "      <td>NaN</td>\n",
       "      <td>NaN</td>\n",
       "      <td>NaN</td>\n",
       "      <td>NaN</td>\n",
       "      <td>NaN</td>\n",
       "      <td>NaN</td>\n",
       "      <td>NaN</td>\n",
       "      <td>NaN</td>\n",
       "      <td>NaN</td>\n",
       "    </tr>\n",
       "    <tr>\n",
       "      <th>Gender</th>\n",
       "      <td>NaN</td>\n",
       "      <td>NaN</td>\n",
       "      <td>NaN</td>\n",
       "      <td>NaN</td>\n",
       "      <td>NaN</td>\n",
       "      <td>NaN</td>\n",
       "      <td>NaN</td>\n",
       "      <td>NaN</td>\n",
       "      <td>NaN</td>\n",
       "      <td>NaN</td>\n",
       "      <td>NaN</td>\n",
       "      <td>NaN</td>\n",
       "      <td>NaN</td>\n",
       "      <td>NaN</td>\n",
       "      <td>NaN</td>\n",
       "      <td>NaN</td>\n",
       "    </tr>\n",
       "    <tr>\n",
       "      <th>Product line</th>\n",
       "      <td>NaN</td>\n",
       "      <td>NaN</td>\n",
       "      <td>NaN</td>\n",
       "      <td>NaN</td>\n",
       "      <td>NaN</td>\n",
       "      <td>NaN</td>\n",
       "      <td>NaN</td>\n",
       "      <td>NaN</td>\n",
       "      <td>NaN</td>\n",
       "      <td>NaN</td>\n",
       "      <td>NaN</td>\n",
       "      <td>NaN</td>\n",
       "      <td>NaN</td>\n",
       "      <td>NaN</td>\n",
       "      <td>NaN</td>\n",
       "      <td>NaN</td>\n",
       "    </tr>\n",
       "    <tr>\n",
       "      <th>Unit price</th>\n",
       "      <td>NaN</td>\n",
       "      <td>NaN</td>\n",
       "      <td>NaN</td>\n",
       "      <td>NaN</td>\n",
       "      <td>NaN</td>\n",
       "      <td>NaN</td>\n",
       "      <td>1.00</td>\n",
       "      <td>0.01</td>\n",
       "      <td>0.63</td>\n",
       "      <td>0.63</td>\n",
       "      <td>NaN</td>\n",
       "      <td>NaN</td>\n",
       "      <td>0.63</td>\n",
       "      <td>NaN</td>\n",
       "      <td>0.63</td>\n",
       "      <td>-0.01</td>\n",
       "    </tr>\n",
       "    <tr>\n",
       "      <th>Quantity</th>\n",
       "      <td>NaN</td>\n",
       "      <td>NaN</td>\n",
       "      <td>NaN</td>\n",
       "      <td>NaN</td>\n",
       "      <td>NaN</td>\n",
       "      <td>NaN</td>\n",
       "      <td>0.01</td>\n",
       "      <td>1.00</td>\n",
       "      <td>0.71</td>\n",
       "      <td>0.71</td>\n",
       "      <td>NaN</td>\n",
       "      <td>NaN</td>\n",
       "      <td>0.71</td>\n",
       "      <td>NaN</td>\n",
       "      <td>0.71</td>\n",
       "      <td>-0.02</td>\n",
       "    </tr>\n",
       "    <tr>\n",
       "      <th>Tax 5%</th>\n",
       "      <td>NaN</td>\n",
       "      <td>NaN</td>\n",
       "      <td>NaN</td>\n",
       "      <td>NaN</td>\n",
       "      <td>NaN</td>\n",
       "      <td>NaN</td>\n",
       "      <td>0.63</td>\n",
       "      <td>0.71</td>\n",
       "      <td>1.00</td>\n",
       "      <td>1.00</td>\n",
       "      <td>NaN</td>\n",
       "      <td>NaN</td>\n",
       "      <td>1.00</td>\n",
       "      <td>NaN</td>\n",
       "      <td>1.00</td>\n",
       "      <td>-0.04</td>\n",
       "    </tr>\n",
       "    <tr>\n",
       "      <th>Total</th>\n",
       "      <td>NaN</td>\n",
       "      <td>NaN</td>\n",
       "      <td>NaN</td>\n",
       "      <td>NaN</td>\n",
       "      <td>NaN</td>\n",
       "      <td>NaN</td>\n",
       "      <td>0.63</td>\n",
       "      <td>0.71</td>\n",
       "      <td>1.00</td>\n",
       "      <td>1.00</td>\n",
       "      <td>NaN</td>\n",
       "      <td>NaN</td>\n",
       "      <td>1.00</td>\n",
       "      <td>NaN</td>\n",
       "      <td>1.00</td>\n",
       "      <td>-0.04</td>\n",
       "    </tr>\n",
       "    <tr>\n",
       "      <th>Time</th>\n",
       "      <td>NaN</td>\n",
       "      <td>NaN</td>\n",
       "      <td>NaN</td>\n",
       "      <td>NaN</td>\n",
       "      <td>NaN</td>\n",
       "      <td>NaN</td>\n",
       "      <td>NaN</td>\n",
       "      <td>NaN</td>\n",
       "      <td>NaN</td>\n",
       "      <td>NaN</td>\n",
       "      <td>NaN</td>\n",
       "      <td>NaN</td>\n",
       "      <td>NaN</td>\n",
       "      <td>NaN</td>\n",
       "      <td>NaN</td>\n",
       "      <td>NaN</td>\n",
       "    </tr>\n",
       "    <tr>\n",
       "      <th>Payment</th>\n",
       "      <td>NaN</td>\n",
       "      <td>NaN</td>\n",
       "      <td>NaN</td>\n",
       "      <td>NaN</td>\n",
       "      <td>NaN</td>\n",
       "      <td>NaN</td>\n",
       "      <td>NaN</td>\n",
       "      <td>NaN</td>\n",
       "      <td>NaN</td>\n",
       "      <td>NaN</td>\n",
       "      <td>NaN</td>\n",
       "      <td>NaN</td>\n",
       "      <td>NaN</td>\n",
       "      <td>NaN</td>\n",
       "      <td>NaN</td>\n",
       "      <td>NaN</td>\n",
       "    </tr>\n",
       "    <tr>\n",
       "      <th>cogs</th>\n",
       "      <td>NaN</td>\n",
       "      <td>NaN</td>\n",
       "      <td>NaN</td>\n",
       "      <td>NaN</td>\n",
       "      <td>NaN</td>\n",
       "      <td>NaN</td>\n",
       "      <td>0.63</td>\n",
       "      <td>0.71</td>\n",
       "      <td>1.00</td>\n",
       "      <td>1.00</td>\n",
       "      <td>NaN</td>\n",
       "      <td>NaN</td>\n",
       "      <td>1.00</td>\n",
       "      <td>NaN</td>\n",
       "      <td>1.00</td>\n",
       "      <td>-0.04</td>\n",
       "    </tr>\n",
       "    <tr>\n",
       "      <th>gross margin percentage</th>\n",
       "      <td>NaN</td>\n",
       "      <td>NaN</td>\n",
       "      <td>NaN</td>\n",
       "      <td>NaN</td>\n",
       "      <td>NaN</td>\n",
       "      <td>NaN</td>\n",
       "      <td>NaN</td>\n",
       "      <td>NaN</td>\n",
       "      <td>NaN</td>\n",
       "      <td>NaN</td>\n",
       "      <td>NaN</td>\n",
       "      <td>NaN</td>\n",
       "      <td>NaN</td>\n",
       "      <td>NaN</td>\n",
       "      <td>NaN</td>\n",
       "      <td>NaN</td>\n",
       "    </tr>\n",
       "    <tr>\n",
       "      <th>gross income</th>\n",
       "      <td>NaN</td>\n",
       "      <td>NaN</td>\n",
       "      <td>NaN</td>\n",
       "      <td>NaN</td>\n",
       "      <td>NaN</td>\n",
       "      <td>NaN</td>\n",
       "      <td>0.63</td>\n",
       "      <td>0.71</td>\n",
       "      <td>1.00</td>\n",
       "      <td>1.00</td>\n",
       "      <td>NaN</td>\n",
       "      <td>NaN</td>\n",
       "      <td>1.00</td>\n",
       "      <td>NaN</td>\n",
       "      <td>1.00</td>\n",
       "      <td>-0.04</td>\n",
       "    </tr>\n",
       "    <tr>\n",
       "      <th>Rating</th>\n",
       "      <td>NaN</td>\n",
       "      <td>NaN</td>\n",
       "      <td>NaN</td>\n",
       "      <td>NaN</td>\n",
       "      <td>NaN</td>\n",
       "      <td>NaN</td>\n",
       "      <td>-0.01</td>\n",
       "      <td>-0.02</td>\n",
       "      <td>-0.04</td>\n",
       "      <td>-0.04</td>\n",
       "      <td>NaN</td>\n",
       "      <td>NaN</td>\n",
       "      <td>-0.04</td>\n",
       "      <td>NaN</td>\n",
       "      <td>-0.04</td>\n",
       "      <td>1.00</td>\n",
       "    </tr>\n",
       "  </tbody>\n",
       "</table>\n",
       "</div>"
      ],
      "text/plain": [
       "                         Invoice ID  Branch  City  Customer type  Gender  \\\n",
       "Invoice ID                      NaN     NaN   NaN            NaN     NaN   \n",
       "Branch                          NaN     NaN   NaN            NaN     NaN   \n",
       "City                            NaN     NaN   NaN            NaN     NaN   \n",
       "Customer type                   NaN     NaN   NaN            NaN     NaN   \n",
       "Gender                          NaN     NaN   NaN            NaN     NaN   \n",
       "Product line                    NaN     NaN   NaN            NaN     NaN   \n",
       "Unit price                      NaN     NaN   NaN            NaN     NaN   \n",
       "Quantity                        NaN     NaN   NaN            NaN     NaN   \n",
       "Tax 5%                          NaN     NaN   NaN            NaN     NaN   \n",
       "Total                           NaN     NaN   NaN            NaN     NaN   \n",
       "Time                            NaN     NaN   NaN            NaN     NaN   \n",
       "Payment                         NaN     NaN   NaN            NaN     NaN   \n",
       "cogs                            NaN     NaN   NaN            NaN     NaN   \n",
       "gross margin percentage         NaN     NaN   NaN            NaN     NaN   \n",
       "gross income                    NaN     NaN   NaN            NaN     NaN   \n",
       "Rating                          NaN     NaN   NaN            NaN     NaN   \n",
       "\n",
       "                         Product line  Unit price  Quantity  Tax 5%  Total  \\\n",
       "Invoice ID                        NaN         NaN       NaN     NaN    NaN   \n",
       "Branch                            NaN         NaN       NaN     NaN    NaN   \n",
       "City                              NaN         NaN       NaN     NaN    NaN   \n",
       "Customer type                     NaN         NaN       NaN     NaN    NaN   \n",
       "Gender                            NaN         NaN       NaN     NaN    NaN   \n",
       "Product line                      NaN         NaN       NaN     NaN    NaN   \n",
       "Unit price                        NaN        1.00      0.01    0.63   0.63   \n",
       "Quantity                          NaN        0.01      1.00    0.71   0.71   \n",
       "Tax 5%                            NaN        0.63      0.71    1.00   1.00   \n",
       "Total                             NaN        0.63      0.71    1.00   1.00   \n",
       "Time                              NaN         NaN       NaN     NaN    NaN   \n",
       "Payment                           NaN         NaN       NaN     NaN    NaN   \n",
       "cogs                              NaN        0.63      0.71    1.00   1.00   \n",
       "gross margin percentage           NaN         NaN       NaN     NaN    NaN   \n",
       "gross income                      NaN        0.63      0.71    1.00   1.00   \n",
       "Rating                            NaN       -0.01     -0.02   -0.04  -0.04   \n",
       "\n",
       "                         Time  Payment  cogs  gross margin percentage  \\\n",
       "Invoice ID                NaN      NaN   NaN                      NaN   \n",
       "Branch                    NaN      NaN   NaN                      NaN   \n",
       "City                      NaN      NaN   NaN                      NaN   \n",
       "Customer type             NaN      NaN   NaN                      NaN   \n",
       "Gender                    NaN      NaN   NaN                      NaN   \n",
       "Product line              NaN      NaN   NaN                      NaN   \n",
       "Unit price                NaN      NaN  0.63                      NaN   \n",
       "Quantity                  NaN      NaN  0.71                      NaN   \n",
       "Tax 5%                    NaN      NaN  1.00                      NaN   \n",
       "Total                     NaN      NaN  1.00                      NaN   \n",
       "Time                      NaN      NaN   NaN                      NaN   \n",
       "Payment                   NaN      NaN   NaN                      NaN   \n",
       "cogs                      NaN      NaN  1.00                      NaN   \n",
       "gross margin percentage   NaN      NaN   NaN                      NaN   \n",
       "gross income              NaN      NaN  1.00                      NaN   \n",
       "Rating                    NaN      NaN -0.04                      NaN   \n",
       "\n",
       "                         gross income  Rating  \n",
       "Invoice ID                        NaN     NaN  \n",
       "Branch                            NaN     NaN  \n",
       "City                              NaN     NaN  \n",
       "Customer type                     NaN     NaN  \n",
       "Gender                            NaN     NaN  \n",
       "Product line                      NaN     NaN  \n",
       "Unit price                       0.63   -0.01  \n",
       "Quantity                         0.71   -0.02  \n",
       "Tax 5%                           1.00   -0.04  \n",
       "Total                            1.00   -0.04  \n",
       "Time                              NaN     NaN  \n",
       "Payment                           NaN     NaN  \n",
       "cogs                             1.00   -0.04  \n",
       "gross margin percentage           NaN     NaN  \n",
       "gross income                     1.00   -0.04  \n",
       "Rating                          -0.04    1.00  "
      ]
     },
     "execution_count": 22,
     "metadata": {},
     "output_type": "execute_result"
    }
   ],
   "source": [
    "np.round(sales.corr(),2)"
   ]
  },
  {
   "cell_type": "markdown",
   "id": "3fc239de",
   "metadata": {
    "id": "dgHJp69bTj6p",
    "papermill": {
     "duration": 0.01061,
     "end_time": "2024-03-27T19:05:01.789062",
     "exception": false,
     "start_time": "2024-03-27T19:05:01.778452",
     "status": "completed"
    },
    "tags": []
   },
   "source": [
    "# **EXPLORATORY DATA ANALYSIS**"
   ]
  },
  {
   "cell_type": "code",
   "execution_count": 23,
   "id": "9fec1b4a",
   "metadata": {
    "_kg_hide-input": true,
    "execution": {
     "iopub.execute_input": "2024-03-27T19:05:01.812992Z",
     "iopub.status.busy": "2024-03-27T19:05:01.812585Z",
     "iopub.status.idle": "2024-03-27T19:05:02.355077Z",
     "shell.execute_reply": "2024-03-27T19:05:02.354214Z"
    },
    "papermill": {
     "duration": 0.556972,
     "end_time": "2024-03-27T19:05:02.357029",
     "exception": false,
     "start_time": "2024-03-27T19:05:01.800057",
     "status": "completed"
    },
    "tags": []
   },
   "outputs": [
    {
     "data": {
      "image/png": "[encoded data removed]",
      "text/plain": [
       "<Figure size 1200x600 with 1 Axes>"
      ]
     },
     "metadata": {},
     "output_type": "display_data"
    }
   ],
   "source": [
    "plt.figure(figsize=(12,6),dpi=100)\n",
    "sns.regplot(x='Tax 5%',y='gross income',data=sales,color='Red')\n",
    "plt.xlabel('Tax 5%')\n",
    "plt.ylabel('Gross Income')\n",
    "plt.show()"
   ]
  },
  {
   "cell_type": "code",
   "execution_count": 24,
   "id": "2670d16c",
   "metadata": {
    "_kg_hide-input": true,
    "execution": {
     "iopub.execute_input": "2024-03-27T19:05:02.382410Z",
     "iopub.status.busy": "2024-03-27T19:05:02.381870Z",
     "iopub.status.idle": "2024-03-27T19:05:02.800741Z",
     "shell.execute_reply": "2024-03-27T19:05:02.799853Z"
    },
    "papermill": {
     "duration": 0.434584,
     "end_time": "2024-03-27T19:05:02.803324",
     "exception": false,
     "start_time": "2024-03-27T19:05:02.368740",
     "status": "completed"
    },
    "tags": []
   },
   "outputs": [
    {
     "data": {
      "image/png": "[encoded data removed]",
      "text/plain": [
       "<Figure size 1200x600 with 1 Axes>"
      ]
     },
     "metadata": {},
     "output_type": "display_data"
    }
   ],
   "source": [
    "plt.figure(figsize=(12,6),dpi=100)\n",
    "sns.regplot(x='Quantity',y='cogs',data=sales,color='green')\n",
    "plt.xlabel('Quantity')\n",
    "plt.ylabel('Cost of Goods Sale')\n",
    "plt.title('Quantity v Cost of Goods Sale',fontsize=15)\n",
    "plt.show()"
   ]
  },
  {
   "cell_type": "code",
   "execution_count": 25,
   "id": "1233e014",
   "metadata": {
    "_kg_hide-input": true,
    "execution": {
     "iopub.execute_input": "2024-03-27T19:05:02.830419Z",
     "iopub.status.busy": "2024-03-27T19:05:02.830039Z",
     "iopub.status.idle": "2024-03-27T19:05:03.271852Z",
     "shell.execute_reply": "2024-03-27T19:05:03.270551Z"
    },
    "papermill": {
     "duration": 0.458301,
     "end_time": "2024-03-27T19:05:03.274396",
     "exception": false,
     "start_time": "2024-03-27T19:05:02.816095",
     "status": "completed"
    },
    "tags": []
   },
   "outputs": [
    {
     "data": {
      "image/png": "[encoded data removed]",
      "text/plain": [
       "<Figure size 1200x600 with 1 Axes>"
      ]
     },
     "metadata": {},
     "output_type": "display_data"
    }
   ],
   "source": [
    "plt.figure(figsize=(12,6),dpi=100)\n",
    "sns.regplot(x='Unit price',y='gross income',data=sales,color='blue')\n",
    "plt.xlabel('Unit Price')\n",
    "plt.ylabel('Gross Income')\n",
    "plt.title('Unit Price v Gross Income',fontsize=15)\n",
    "plt.show()"
   ]
  },
  {
   "cell_type": "code",
   "execution_count": 26,
   "id": "19b53941",
   "metadata": {
    "_kg_hide-input": true,
    "execution": {
     "iopub.execute_input": "2024-03-27T19:05:03.314477Z",
     "iopub.status.busy": "2024-03-27T19:05:03.313713Z",
     "iopub.status.idle": "2024-03-27T19:05:03.554225Z",
     "shell.execute_reply": "2024-03-27T19:05:03.552948Z"
    },
    "id": "o-imBfJWxKjS",
    "outputId": "6987bc83-bb9d-4189-9629-7487c036d796",
    "papermill": {
     "duration": 0.260661,
     "end_time": "2024-03-27T19:05:03.556882",
     "exception": false,
     "start_time": "2024-03-27T19:05:03.296221",
     "status": "completed"
    },
    "tags": []
   },
   "outputs": [
    {
     "data": {
      "image/png": "[encoded data removed]",
      "text/plain": [
       "<Figure size 800x600 with 1 Axes>"
      ]
     },
     "metadata": {},
     "output_type": "display_data"
    }
   ],
   "source": [
    "# To see the distribution of different ratings\n",
    "plt.figure(dpi=125) \n",
    "sns.distplot(sales['Rating'],kde=False)\n",
    "plt.show()"
   ]
  },
  {
   "cell_type": "markdown",
   "id": "7e2bb063",
   "metadata": {
    "id": "pQ3xN7FoT5kD",
    "papermill": {
     "duration": 0.017418,
     "end_time": "2024-03-27T19:05:03.590590",
     "exception": false,
     "start_time": "2024-03-27T19:05:03.573172",
     "status": "completed"
    },
    "tags": []
   },
   "source": [
    "Let's find the mean rating now"
   ]
  },
  {
   "cell_type": "code",
   "execution_count": 27,
   "id": "205551ce",
   "metadata": {
    "_kg_hide-input": true,
    "execution": {
     "iopub.execute_input": "2024-03-27T19:05:03.623394Z",
     "iopub.status.busy": "2024-03-27T19:05:03.622875Z",
     "iopub.status.idle": "2024-03-27T19:05:03.892547Z",
     "shell.execute_reply": "2024-03-27T19:05:03.891286Z"
    },
    "id": "BUEXIr93xlJH",
    "outputId": "b2b2d384-05a6-4f09-f54c-46e2ddc11c0b",
    "papermill": {
     "duration": 0.288593,
     "end_time": "2024-03-27T19:05:03.894995",
     "exception": false,
     "start_time": "2024-03-27T19:05:03.606402",
     "status": "completed"
    },
    "tags": []
   },
   "outputs": [
    {
     "data": {
      "image/png": "[encoded data removed]",
      "text/plain": [
       "<Figure size 800x600 with 1 Axes>"
      ]
     },
     "metadata": {},
     "output_type": "display_data"
    }
   ],
   "source": [
    "# To find Mean Rating\n",
    "plt.figure(dpi=125)\n",
    "sns.distplot(sales['Rating'],kde=False)\n",
    "plt.axvline(x=np.mean(sales['Rating']),c='green',label='Mean Rating')\n",
    "plt.legend()\n",
    "plt.show()"
   ]
  },
  {
   "cell_type": "code",
   "execution_count": 28,
   "id": "1761f5b6",
   "metadata": {
    "_kg_hide-input": true,
    "execution": {
     "iopub.execute_input": "2024-03-27T19:05:03.928384Z",
     "iopub.status.busy": "2024-03-27T19:05:03.927676Z",
     "iopub.status.idle": "2024-03-27T19:05:06.533164Z",
     "shell.execute_reply": "2024-03-27T19:05:06.532014Z"
    },
    "id": "Hal1dPnqylo1",
    "outputId": "e8c20e9e-a9ba-4062-8f2a-2f7e72acff7e",
    "papermill": {
     "duration": 2.626099,
     "end_time": "2024-03-27T19:05:06.536004",
     "exception": false,
     "start_time": "2024-03-27T19:05:03.909905",
     "status": "completed"
    },
    "tags": []
   },
   "outputs": [
    {
     "data": {
      "image/png": "[encoded data removed]",
      "text/plain": [
       "<Figure size 1200x1200 with 16 Axes>"
      ]
     },
     "metadata": {},
     "output_type": "display_data"
    }
   ],
   "source": [
    "# Plotting Histogram for all\n",
    "sales.hist(figsize=(12,12))\n",
    "plt.show()"
   ]
  }
 ],
 "metadata": {
  "kaggle": {
   "accelerator": "none",
   "dataSources": [
    {
     "datasetId": 4682059,
     "sourceId": 7959409,
     "sourceType": "datasetVersion"
    }
   ],
   "dockerImageVersionId": 30673,
   "isGpuEnabled": false,
   "isInternetEnabled": true,
   "language": "python",
   "sourceType": "notebook"
  },
  "kernelspec": {
   "display_name": "Python 3",
   "language": "python",
   "name": "python3"
  },
  "language_info": {
   "codemirror_mode": {
    "name": "ipython",
    "version": 3
   },
   "file_extension": ".py",
   "mimetype": "text/x-python",
   "name": "python",
   "nbconvert_exporter": "python",
   "pygments_lexer": "ipython3",
   "version": "3.10.13"
  },
  "papermill": {
   "duration": 11.861168,
   "end_time": "2024-03-27T19:05:07.373468",
   "environment_variables": {},
   "exception": null,
   "input_path": "__notebook__.ipynb",
   "output_path": "__notebook__.ipynb",
   "parameters": {},
   "start_time": "2024-03-27T19:04:55.512300",
   "version": "2.1.0"
  }
 },
 "nbformat": 4,
 "nbformat_minor": 5
}
